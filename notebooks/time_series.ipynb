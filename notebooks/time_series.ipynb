{
 "cells": [
  {
   "cell_type": "markdown",
   "source": [
    "# Import project path"
   ],
   "metadata": {
    "collapsed": false
   },
   "id": "d693af96c34265a1"
  },
  {
   "cell_type": "code",
   "execution_count": 2,
   "outputs": [],
   "source": [
    "import sys\n",
    "sys.path.append(\"D:/git/NewUserPredict\")\n",
    "from tools.config_file import NewUserPredictParams\n",
    "params = NewUserPredictParams()"
   ],
   "metadata": {
    "collapsed": false,
    "ExecuteTime": {
     "start_time": "2023-09-11T06:48:03.630122200Z"
    }
   },
   "id": "initial_id"
  },
  {
   "cell_type": "markdown",
   "source": [
    "# Import other packages"
   ],
   "metadata": {
    "collapsed": false
   },
   "id": "d6951dcb884c4a02"
  },
  {
   "cell_type": "code",
   "execution_count": 4,
   "outputs": [],
   "source": [
    "import pandas as pd"
   ],
   "metadata": {
    "collapsed": false,
    "ExecuteTime": {
     "end_time": "2023-09-11T06:49:22.079857200Z",
     "start_time": "2023-09-11T06:49:22.069762100Z"
    }
   },
   "id": "1cc3e5a0ae0788d4"
  },
  {
   "cell_type": "code",
   "execution_count": 106,
   "outputs": [],
   "source": [
    "df_train = pd.read_csv(params.train_csv)\n",
    "df_test = pd.read_csv(params.test_csv)"
   ],
   "metadata": {
    "collapsed": false,
    "ExecuteTime": {
     "end_time": "2023-09-11T09:04:26.427836Z",
     "start_time": "2023-09-11T09:04:25.637193700Z"
    }
   },
   "id": "64d6edc6c50c4862"
  },
  {
   "cell_type": "code",
   "execution_count": 107,
   "outputs": [
    {
     "data": {
      "text/plain": "          uuid  eid                          udmap      common_ts  x1  x2  x3  \\\n0            0   26  {\"key3\":\"67804\",\"key2\":\"650\"}  1689673468244   4   0  41   \n1            1   26  {\"key3\":\"67804\",\"key2\":\"484\"}  1689082941469   4   0  41   \n2            2    8                        unknown  1689407393040   4   0  41   \n3            3   11                        unknown  1689467815688   1   3  41   \n4            4   26  {\"key3\":\"67804\",\"key2\":\"650\"}  1689491751442   0   3  41   \n...        ...  ...                            ...            ...  ..  ..  ..   \n620351  620351    2      {\"key4\":\"14\",\"key5\":\"14\"}  1688990850527   4   0  41   \n620352  620352    8                        unknown  1689490302305   4   0  41   \n620353  620353   41    {\"key1\":\"274\",\"key2\":\"446\"}  1688892078584   0   2  41   \n620354  620354   26  {\"key3\":\"67804\",\"key2\":\"650\"}  1689652960171   4   0  41   \n620355  620355   41   {\"key1\":\"1398\",\"key2\":\"289\"}  1689235398023   2   2  41   \n\n         x4   x5  x6  x7  x8  target  \n0       107  206   1   0   1       0  \n1        24  283   4   8   1       0  \n2        71  288   4   7   1       0  \n3        17  366   1   6   1       0  \n4        92  383   4   8   1       0  \n...     ...  ...  ..  ..  ..     ...  \n620351  104   37   4   4   1       0  \n620352  104   37   1   6   1       0  \n620353  104   37   4   2   0       1  \n620354   17  366   1   6   1       0  \n620355   71  288   4   2   0       0  \n\n[620356 rows x 13 columns]",
      "text/html": "<div>\n<style scoped>\n    .dataframe tbody tr th:only-of-type {\n        vertical-align: middle;\n    }\n\n    .dataframe tbody tr th {\n        vertical-align: top;\n    }\n\n    .dataframe thead th {\n        text-align: right;\n    }\n</style>\n<table border=\"1\" class=\"dataframe\">\n  <thead>\n    <tr style=\"text-align: right;\">\n      <th></th>\n      <th>uuid</th>\n      <th>eid</th>\n      <th>udmap</th>\n      <th>common_ts</th>\n      <th>x1</th>\n      <th>x2</th>\n      <th>x3</th>\n      <th>x4</th>\n      <th>x5</th>\n      <th>x6</th>\n      <th>x7</th>\n      <th>x8</th>\n      <th>target</th>\n    </tr>\n  </thead>\n  <tbody>\n    <tr>\n      <th>0</th>\n      <td>0</td>\n      <td>26</td>\n      <td>{\"key3\":\"67804\",\"key2\":\"650\"}</td>\n      <td>1689673468244</td>\n      <td>4</td>\n      <td>0</td>\n      <td>41</td>\n      <td>107</td>\n      <td>206</td>\n      <td>1</td>\n      <td>0</td>\n      <td>1</td>\n      <td>0</td>\n    </tr>\n    <tr>\n      <th>1</th>\n      <td>1</td>\n      <td>26</td>\n      <td>{\"key3\":\"67804\",\"key2\":\"484\"}</td>\n      <td>1689082941469</td>\n      <td>4</td>\n      <td>0</td>\n      <td>41</td>\n      <td>24</td>\n      <td>283</td>\n      <td>4</td>\n      <td>8</td>\n      <td>1</td>\n      <td>0</td>\n    </tr>\n    <tr>\n      <th>2</th>\n      <td>2</td>\n      <td>8</td>\n      <td>unknown</td>\n      <td>1689407393040</td>\n      <td>4</td>\n      <td>0</td>\n      <td>41</td>\n      <td>71</td>\n      <td>288</td>\n      <td>4</td>\n      <td>7</td>\n      <td>1</td>\n      <td>0</td>\n    </tr>\n    <tr>\n      <th>3</th>\n      <td>3</td>\n      <td>11</td>\n      <td>unknown</td>\n      <td>1689467815688</td>\n      <td>1</td>\n      <td>3</td>\n      <td>41</td>\n      <td>17</td>\n      <td>366</td>\n      <td>1</td>\n      <td>6</td>\n      <td>1</td>\n      <td>0</td>\n    </tr>\n    <tr>\n      <th>4</th>\n      <td>4</td>\n      <td>26</td>\n      <td>{\"key3\":\"67804\",\"key2\":\"650\"}</td>\n      <td>1689491751442</td>\n      <td>0</td>\n      <td>3</td>\n      <td>41</td>\n      <td>92</td>\n      <td>383</td>\n      <td>4</td>\n      <td>8</td>\n      <td>1</td>\n      <td>0</td>\n    </tr>\n    <tr>\n      <th>...</th>\n      <td>...</td>\n      <td>...</td>\n      <td>...</td>\n      <td>...</td>\n      <td>...</td>\n      <td>...</td>\n      <td>...</td>\n      <td>...</td>\n      <td>...</td>\n      <td>...</td>\n      <td>...</td>\n      <td>...</td>\n      <td>...</td>\n    </tr>\n    <tr>\n      <th>620351</th>\n      <td>620351</td>\n      <td>2</td>\n      <td>{\"key4\":\"14\",\"key5\":\"14\"}</td>\n      <td>1688990850527</td>\n      <td>4</td>\n      <td>0</td>\n      <td>41</td>\n      <td>104</td>\n      <td>37</td>\n      <td>4</td>\n      <td>4</td>\n      <td>1</td>\n      <td>0</td>\n    </tr>\n    <tr>\n      <th>620352</th>\n      <td>620352</td>\n      <td>8</td>\n      <td>unknown</td>\n      <td>1689490302305</td>\n      <td>4</td>\n      <td>0</td>\n      <td>41</td>\n      <td>104</td>\n      <td>37</td>\n      <td>1</td>\n      <td>6</td>\n      <td>1</td>\n      <td>0</td>\n    </tr>\n    <tr>\n      <th>620353</th>\n      <td>620353</td>\n      <td>41</td>\n      <td>{\"key1\":\"274\",\"key2\":\"446\"}</td>\n      <td>1688892078584</td>\n      <td>0</td>\n      <td>2</td>\n      <td>41</td>\n      <td>104</td>\n      <td>37</td>\n      <td>4</td>\n      <td>2</td>\n      <td>0</td>\n      <td>1</td>\n    </tr>\n    <tr>\n      <th>620354</th>\n      <td>620354</td>\n      <td>26</td>\n      <td>{\"key3\":\"67804\",\"key2\":\"650\"}</td>\n      <td>1689652960171</td>\n      <td>4</td>\n      <td>0</td>\n      <td>41</td>\n      <td>17</td>\n      <td>366</td>\n      <td>1</td>\n      <td>6</td>\n      <td>1</td>\n      <td>0</td>\n    </tr>\n    <tr>\n      <th>620355</th>\n      <td>620355</td>\n      <td>41</td>\n      <td>{\"key1\":\"1398\",\"key2\":\"289\"}</td>\n      <td>1689235398023</td>\n      <td>2</td>\n      <td>2</td>\n      <td>41</td>\n      <td>71</td>\n      <td>288</td>\n      <td>4</td>\n      <td>2</td>\n      <td>0</td>\n      <td>0</td>\n    </tr>\n  </tbody>\n</table>\n<p>620356 rows × 13 columns</p>\n</div>"
     },
     "execution_count": 107,
     "metadata": {},
     "output_type": "execute_result"
    }
   ],
   "source": [
    "df_train"
   ],
   "metadata": {
    "collapsed": false,
    "ExecuteTime": {
     "end_time": "2023-09-11T09:04:27.200528200Z",
     "start_time": "2023-09-11T09:04:27.166618300Z"
    }
   },
   "id": "4b17ec6322fef71e"
  },
  {
   "cell_type": "code",
   "execution_count": 108,
   "outputs": [],
   "source": [
    "df_train['common_ts_dt'] = pd.to_datetime(df_train['common_ts'], unit='ms')\n",
    "df_train['year'] = df_train['common_ts_dt'].dt.year\n",
    "df_train['month'] = df_train['common_ts_dt'].dt.month\n",
    "df_train['day'] = df_train['common_ts_dt'].dt.day\n",
    "df_train['dayofweek'] = df_train['common_ts_dt'].dt.dayofweek + 1\n",
    "df_train['hour'] = df_train['common_ts_dt'].dt.hour"
   ],
   "metadata": {
    "collapsed": false,
    "ExecuteTime": {
     "end_time": "2023-09-11T09:04:29.972659300Z",
     "start_time": "2023-09-11T09:04:29.637604100Z"
    }
   },
   "id": "b26fe6531beae1de"
  },
  {
   "cell_type": "code",
   "execution_count": 110,
   "outputs": [
    {
     "data": {
      "text/plain": "          uuid  eid                          udmap      common_ts  x1  x2  x3  \\\n0            0   26  {\"key3\":\"67804\",\"key2\":\"650\"}  1689673468244   4   0  41   \n1            1   26  {\"key3\":\"67804\",\"key2\":\"484\"}  1689082941469   4   0  41   \n2            2    8                        unknown  1689407393040   4   0  41   \n3            3   11                        unknown  1689467815688   1   3  41   \n4            4   26  {\"key3\":\"67804\",\"key2\":\"650\"}  1689491751442   0   3  41   \n...        ...  ...                            ...            ...  ..  ..  ..   \n620351  620351    2      {\"key4\":\"14\",\"key5\":\"14\"}  1688990850527   4   0  41   \n620352  620352    8                        unknown  1689490302305   4   0  41   \n620353  620353   41    {\"key1\":\"274\",\"key2\":\"446\"}  1688892078584   0   2  41   \n620354  620354   26  {\"key3\":\"67804\",\"key2\":\"650\"}  1689652960171   4   0  41   \n620355  620355   41   {\"key1\":\"1398\",\"key2\":\"289\"}  1689235398023   2   2  41   \n\n         x4   x5  x6  ...  x8  target            common_ts_dt  year  month  \\\n0       107  206   1  ...   1       0 2023-07-18 09:44:28.244  2023      7   \n1        24  283   4  ...   1       0 2023-07-11 13:42:21.469  2023      7   \n2        71  288   4  ...   1       0 2023-07-15 07:49:53.040  2023      7   \n3        17  366   1  ...   1       0 2023-07-16 00:36:55.688  2023      7   \n4        92  383   4  ...   1       0 2023-07-16 07:15:51.442  2023      7   \n...     ...  ...  ..  ...  ..     ...                     ...   ...    ...   \n620351  104   37   4  ...   1       0 2023-07-10 12:07:30.527  2023      7   \n620352  104   37   1  ...   1       0 2023-07-16 06:51:42.305  2023      7   \n620353  104   37   4  ...   0       1 2023-07-09 08:41:18.584  2023      7   \n620354   17  366   1  ...   1       0 2023-07-18 04:02:40.171  2023      7   \n620355   71  288   4  ...   0       0 2023-07-13 08:03:18.023  2023      7   \n\n        day  dayofweek  hour  hour_target_mean  hour_target_skew  \n0        18          2     9          0.161633          1.838453  \n1        11          2    13          0.154592          1.910965  \n2        15          6     7          0.179153          1.673404  \n3        16          7     0          0.074630          3.237474  \n4        16          7     7          0.179153          1.673404  \n...     ...        ...   ...               ...               ...  \n620351   10          1    12          0.145397          2.012027  \n620352   16          7     6          0.139946          2.075754  \n620353    9          7     8          0.163471          1.820149  \n620354   18          2     4          0.140387          2.070486  \n620355   13          4     8          0.163471          1.820149  \n\n[620356 rows x 21 columns]",
      "text/html": "<div>\n<style scoped>\n    .dataframe tbody tr th:only-of-type {\n        vertical-align: middle;\n    }\n\n    .dataframe tbody tr th {\n        vertical-align: top;\n    }\n\n    .dataframe thead th {\n        text-align: right;\n    }\n</style>\n<table border=\"1\" class=\"dataframe\">\n  <thead>\n    <tr style=\"text-align: right;\">\n      <th></th>\n      <th>uuid</th>\n      <th>eid</th>\n      <th>udmap</th>\n      <th>common_ts</th>\n      <th>x1</th>\n      <th>x2</th>\n      <th>x3</th>\n      <th>x4</th>\n      <th>x5</th>\n      <th>x6</th>\n      <th>...</th>\n      <th>x8</th>\n      <th>target</th>\n      <th>common_ts_dt</th>\n      <th>year</th>\n      <th>month</th>\n      <th>day</th>\n      <th>dayofweek</th>\n      <th>hour</th>\n      <th>hour_target_mean</th>\n      <th>hour_target_skew</th>\n    </tr>\n  </thead>\n  <tbody>\n    <tr>\n      <th>0</th>\n      <td>0</td>\n      <td>26</td>\n      <td>{\"key3\":\"67804\",\"key2\":\"650\"}</td>\n      <td>1689673468244</td>\n      <td>4</td>\n      <td>0</td>\n      <td>41</td>\n      <td>107</td>\n      <td>206</td>\n      <td>1</td>\n      <td>...</td>\n      <td>1</td>\n      <td>0</td>\n      <td>2023-07-18 09:44:28.244</td>\n      <td>2023</td>\n      <td>7</td>\n      <td>18</td>\n      <td>2</td>\n      <td>9</td>\n      <td>0.161633</td>\n      <td>1.838453</td>\n    </tr>\n    <tr>\n      <th>1</th>\n      <td>1</td>\n      <td>26</td>\n      <td>{\"key3\":\"67804\",\"key2\":\"484\"}</td>\n      <td>1689082941469</td>\n      <td>4</td>\n      <td>0</td>\n      <td>41</td>\n      <td>24</td>\n      <td>283</td>\n      <td>4</td>\n      <td>...</td>\n      <td>1</td>\n      <td>0</td>\n      <td>2023-07-11 13:42:21.469</td>\n      <td>2023</td>\n      <td>7</td>\n      <td>11</td>\n      <td>2</td>\n      <td>13</td>\n      <td>0.154592</td>\n      <td>1.910965</td>\n    </tr>\n    <tr>\n      <th>2</th>\n      <td>2</td>\n      <td>8</td>\n      <td>unknown</td>\n      <td>1689407393040</td>\n      <td>4</td>\n      <td>0</td>\n      <td>41</td>\n      <td>71</td>\n      <td>288</td>\n      <td>4</td>\n      <td>...</td>\n      <td>1</td>\n      <td>0</td>\n      <td>2023-07-15 07:49:53.040</td>\n      <td>2023</td>\n      <td>7</td>\n      <td>15</td>\n      <td>6</td>\n      <td>7</td>\n      <td>0.179153</td>\n      <td>1.673404</td>\n    </tr>\n    <tr>\n      <th>3</th>\n      <td>3</td>\n      <td>11</td>\n      <td>unknown</td>\n      <td>1689467815688</td>\n      <td>1</td>\n      <td>3</td>\n      <td>41</td>\n      <td>17</td>\n      <td>366</td>\n      <td>1</td>\n      <td>...</td>\n      <td>1</td>\n      <td>0</td>\n      <td>2023-07-16 00:36:55.688</td>\n      <td>2023</td>\n      <td>7</td>\n      <td>16</td>\n      <td>7</td>\n      <td>0</td>\n      <td>0.074630</td>\n      <td>3.237474</td>\n    </tr>\n    <tr>\n      <th>4</th>\n      <td>4</td>\n      <td>26</td>\n      <td>{\"key3\":\"67804\",\"key2\":\"650\"}</td>\n      <td>1689491751442</td>\n      <td>0</td>\n      <td>3</td>\n      <td>41</td>\n      <td>92</td>\n      <td>383</td>\n      <td>4</td>\n      <td>...</td>\n      <td>1</td>\n      <td>0</td>\n      <td>2023-07-16 07:15:51.442</td>\n      <td>2023</td>\n      <td>7</td>\n      <td>16</td>\n      <td>7</td>\n      <td>7</td>\n      <td>0.179153</td>\n      <td>1.673404</td>\n    </tr>\n    <tr>\n      <th>...</th>\n      <td>...</td>\n      <td>...</td>\n      <td>...</td>\n      <td>...</td>\n      <td>...</td>\n      <td>...</td>\n      <td>...</td>\n      <td>...</td>\n      <td>...</td>\n      <td>...</td>\n      <td>...</td>\n      <td>...</td>\n      <td>...</td>\n      <td>...</td>\n      <td>...</td>\n      <td>...</td>\n      <td>...</td>\n      <td>...</td>\n      <td>...</td>\n      <td>...</td>\n      <td>...</td>\n    </tr>\n    <tr>\n      <th>620351</th>\n      <td>620351</td>\n      <td>2</td>\n      <td>{\"key4\":\"14\",\"key5\":\"14\"}</td>\n      <td>1688990850527</td>\n      <td>4</td>\n      <td>0</td>\n      <td>41</td>\n      <td>104</td>\n      <td>37</td>\n      <td>4</td>\n      <td>...</td>\n      <td>1</td>\n      <td>0</td>\n      <td>2023-07-10 12:07:30.527</td>\n      <td>2023</td>\n      <td>7</td>\n      <td>10</td>\n      <td>1</td>\n      <td>12</td>\n      <td>0.145397</td>\n      <td>2.012027</td>\n    </tr>\n    <tr>\n      <th>620352</th>\n      <td>620352</td>\n      <td>8</td>\n      <td>unknown</td>\n      <td>1689490302305</td>\n      <td>4</td>\n      <td>0</td>\n      <td>41</td>\n      <td>104</td>\n      <td>37</td>\n      <td>1</td>\n      <td>...</td>\n      <td>1</td>\n      <td>0</td>\n      <td>2023-07-16 06:51:42.305</td>\n      <td>2023</td>\n      <td>7</td>\n      <td>16</td>\n      <td>7</td>\n      <td>6</td>\n      <td>0.139946</td>\n      <td>2.075754</td>\n    </tr>\n    <tr>\n      <th>620353</th>\n      <td>620353</td>\n      <td>41</td>\n      <td>{\"key1\":\"274\",\"key2\":\"446\"}</td>\n      <td>1688892078584</td>\n      <td>0</td>\n      <td>2</td>\n      <td>41</td>\n      <td>104</td>\n      <td>37</td>\n      <td>4</td>\n      <td>...</td>\n      <td>0</td>\n      <td>1</td>\n      <td>2023-07-09 08:41:18.584</td>\n      <td>2023</td>\n      <td>7</td>\n      <td>9</td>\n      <td>7</td>\n      <td>8</td>\n      <td>0.163471</td>\n      <td>1.820149</td>\n    </tr>\n    <tr>\n      <th>620354</th>\n      <td>620354</td>\n      <td>26</td>\n      <td>{\"key3\":\"67804\",\"key2\":\"650\"}</td>\n      <td>1689652960171</td>\n      <td>4</td>\n      <td>0</td>\n      <td>41</td>\n      <td>17</td>\n      <td>366</td>\n      <td>1</td>\n      <td>...</td>\n      <td>1</td>\n      <td>0</td>\n      <td>2023-07-18 04:02:40.171</td>\n      <td>2023</td>\n      <td>7</td>\n      <td>18</td>\n      <td>2</td>\n      <td>4</td>\n      <td>0.140387</td>\n      <td>2.070486</td>\n    </tr>\n    <tr>\n      <th>620355</th>\n      <td>620355</td>\n      <td>41</td>\n      <td>{\"key1\":\"1398\",\"key2\":\"289\"}</td>\n      <td>1689235398023</td>\n      <td>2</td>\n      <td>2</td>\n      <td>41</td>\n      <td>71</td>\n      <td>288</td>\n      <td>4</td>\n      <td>...</td>\n      <td>0</td>\n      <td>0</td>\n      <td>2023-07-13 08:03:18.023</td>\n      <td>2023</td>\n      <td>7</td>\n      <td>13</td>\n      <td>4</td>\n      <td>8</td>\n      <td>0.163471</td>\n      <td>1.820149</td>\n    </tr>\n  </tbody>\n</table>\n<p>620356 rows × 21 columns</p>\n</div>"
     },
     "execution_count": 110,
     "metadata": {},
     "output_type": "execute_result"
    }
   ],
   "source": [
    "aggs = {\n",
    "    'target': ['mean', 'skew']\n",
    "}\n",
    "df_grouped_hour = df_train.groupby(['hour']).agg(aggs).reset_index()\n",
    "df_grouped_hour.columns = ['hour', 'hour_target_mean', 'hour_target_skew']\n",
    "df_train = pd.merge(df_train, df_grouped_hour, how='left', on='hour')\n",
    "df_train"
   ],
   "metadata": {
    "collapsed": false,
    "ExecuteTime": {
     "end_time": "2023-09-11T09:04:45.116013200Z",
     "start_time": "2023-09-11T09:04:44.858474300Z"
    }
   },
   "id": "695022932c84ffe0"
  },
  {
   "cell_type": "code",
   "execution_count": 111,
   "outputs": [
    {
     "data": {
      "text/plain": "          uuid  eid                          udmap      common_ts  x1  x2  x3  \\\n0            0   26  {\"key3\":\"67804\",\"key2\":\"650\"}  1689673468244   4   0  41   \n1            1   26  {\"key3\":\"67804\",\"key2\":\"484\"}  1689082941469   4   0  41   \n2            2    8                        unknown  1689407393040   4   0  41   \n3            3   11                        unknown  1689467815688   1   3  41   \n4            4   26  {\"key3\":\"67804\",\"key2\":\"650\"}  1689491751442   0   3  41   \n...        ...  ...                            ...            ...  ..  ..  ..   \n620351  620351    2      {\"key4\":\"14\",\"key5\":\"14\"}  1688990850527   4   0  41   \n620352  620352    8                        unknown  1689490302305   4   0  41   \n620353  620353   41    {\"key1\":\"274\",\"key2\":\"446\"}  1688892078584   0   2  41   \n620354  620354   26  {\"key3\":\"67804\",\"key2\":\"650\"}  1689652960171   4   0  41   \n620355  620355   41   {\"key1\":\"1398\",\"key2\":\"289\"}  1689235398023   2   2  41   \n\n         x4   x5  x6  ...  year  month  day dayofweek  hour  hour_target_mean  \\\n0       107  206   1  ...  2023      7   18         2     9          0.161633   \n1        24  283   4  ...  2023      7   11         2    13          0.154592   \n2        71  288   4  ...  2023      7   15         6     7          0.179153   \n3        17  366   1  ...  2023      7   16         7     0          0.074630   \n4        92  383   4  ...  2023      7   16         7     7          0.179153   \n...     ...  ...  ..  ...   ...    ...  ...       ...   ...               ...   \n620351  104   37   4  ...  2023      7   10         1    12          0.145397   \n620352  104   37   1  ...  2023      7   16         7     6          0.139946   \n620353  104   37   4  ...  2023      7    9         7     8          0.163471   \n620354   17  366   1  ...  2023      7   18         2     4          0.140387   \n620355   71  288   4  ...  2023      7   13         4     8          0.163471   \n\n        hour_target_skew  hour_section  hour_section_target_mean  \\\n0               1.838453             1                  0.160579   \n1               1.910965             2                  0.148067   \n2               1.673404             1                  0.160579   \n3               3.237474             0                  0.126957   \n4               1.673404             1                  0.160579   \n...                  ...           ...                       ...   \n620351          2.012027             2                  0.148067   \n620352          2.075754             1                  0.160579   \n620353          1.820149             1                  0.160579   \n620354          2.070486             0                  0.126957   \n620355          1.820149             1                  0.160579   \n\n        hour_section_target_skew  \n0                       1.849007  \n1                       1.981816  \n2                       1.849007  \n3                       2.241021  \n4                       1.849007  \n...                          ...  \n620351                  1.981816  \n620352                  1.849007  \n620353                  1.849007  \n620354                  2.241021  \n620355                  1.849007  \n\n[620356 rows x 24 columns]",
      "text/html": "<div>\n<style scoped>\n    .dataframe tbody tr th:only-of-type {\n        vertical-align: middle;\n    }\n\n    .dataframe tbody tr th {\n        vertical-align: top;\n    }\n\n    .dataframe thead th {\n        text-align: right;\n    }\n</style>\n<table border=\"1\" class=\"dataframe\">\n  <thead>\n    <tr style=\"text-align: right;\">\n      <th></th>\n      <th>uuid</th>\n      <th>eid</th>\n      <th>udmap</th>\n      <th>common_ts</th>\n      <th>x1</th>\n      <th>x2</th>\n      <th>x3</th>\n      <th>x4</th>\n      <th>x5</th>\n      <th>x6</th>\n      <th>...</th>\n      <th>year</th>\n      <th>month</th>\n      <th>day</th>\n      <th>dayofweek</th>\n      <th>hour</th>\n      <th>hour_target_mean</th>\n      <th>hour_target_skew</th>\n      <th>hour_section</th>\n      <th>hour_section_target_mean</th>\n      <th>hour_section_target_skew</th>\n    </tr>\n  </thead>\n  <tbody>\n    <tr>\n      <th>0</th>\n      <td>0</td>\n      <td>26</td>\n      <td>{\"key3\":\"67804\",\"key2\":\"650\"}</td>\n      <td>1689673468244</td>\n      <td>4</td>\n      <td>0</td>\n      <td>41</td>\n      <td>107</td>\n      <td>206</td>\n      <td>1</td>\n      <td>...</td>\n      <td>2023</td>\n      <td>7</td>\n      <td>18</td>\n      <td>2</td>\n      <td>9</td>\n      <td>0.161633</td>\n      <td>1.838453</td>\n      <td>1</td>\n      <td>0.160579</td>\n      <td>1.849007</td>\n    </tr>\n    <tr>\n      <th>1</th>\n      <td>1</td>\n      <td>26</td>\n      <td>{\"key3\":\"67804\",\"key2\":\"484\"}</td>\n      <td>1689082941469</td>\n      <td>4</td>\n      <td>0</td>\n      <td>41</td>\n      <td>24</td>\n      <td>283</td>\n      <td>4</td>\n      <td>...</td>\n      <td>2023</td>\n      <td>7</td>\n      <td>11</td>\n      <td>2</td>\n      <td>13</td>\n      <td>0.154592</td>\n      <td>1.910965</td>\n      <td>2</td>\n      <td>0.148067</td>\n      <td>1.981816</td>\n    </tr>\n    <tr>\n      <th>2</th>\n      <td>2</td>\n      <td>8</td>\n      <td>unknown</td>\n      <td>1689407393040</td>\n      <td>4</td>\n      <td>0</td>\n      <td>41</td>\n      <td>71</td>\n      <td>288</td>\n      <td>4</td>\n      <td>...</td>\n      <td>2023</td>\n      <td>7</td>\n      <td>15</td>\n      <td>6</td>\n      <td>7</td>\n      <td>0.179153</td>\n      <td>1.673404</td>\n      <td>1</td>\n      <td>0.160579</td>\n      <td>1.849007</td>\n    </tr>\n    <tr>\n      <th>3</th>\n      <td>3</td>\n      <td>11</td>\n      <td>unknown</td>\n      <td>1689467815688</td>\n      <td>1</td>\n      <td>3</td>\n      <td>41</td>\n      <td>17</td>\n      <td>366</td>\n      <td>1</td>\n      <td>...</td>\n      <td>2023</td>\n      <td>7</td>\n      <td>16</td>\n      <td>7</td>\n      <td>0</td>\n      <td>0.074630</td>\n      <td>3.237474</td>\n      <td>0</td>\n      <td>0.126957</td>\n      <td>2.241021</td>\n    </tr>\n    <tr>\n      <th>4</th>\n      <td>4</td>\n      <td>26</td>\n      <td>{\"key3\":\"67804\",\"key2\":\"650\"}</td>\n      <td>1689491751442</td>\n      <td>0</td>\n      <td>3</td>\n      <td>41</td>\n      <td>92</td>\n      <td>383</td>\n      <td>4</td>\n      <td>...</td>\n      <td>2023</td>\n      <td>7</td>\n      <td>16</td>\n      <td>7</td>\n      <td>7</td>\n      <td>0.179153</td>\n      <td>1.673404</td>\n      <td>1</td>\n      <td>0.160579</td>\n      <td>1.849007</td>\n    </tr>\n    <tr>\n      <th>...</th>\n      <td>...</td>\n      <td>...</td>\n      <td>...</td>\n      <td>...</td>\n      <td>...</td>\n      <td>...</td>\n      <td>...</td>\n      <td>...</td>\n      <td>...</td>\n      <td>...</td>\n      <td>...</td>\n      <td>...</td>\n      <td>...</td>\n      <td>...</td>\n      <td>...</td>\n      <td>...</td>\n      <td>...</td>\n      <td>...</td>\n      <td>...</td>\n      <td>...</td>\n      <td>...</td>\n    </tr>\n    <tr>\n      <th>620351</th>\n      <td>620351</td>\n      <td>2</td>\n      <td>{\"key4\":\"14\",\"key5\":\"14\"}</td>\n      <td>1688990850527</td>\n      <td>4</td>\n      <td>0</td>\n      <td>41</td>\n      <td>104</td>\n      <td>37</td>\n      <td>4</td>\n      <td>...</td>\n      <td>2023</td>\n      <td>7</td>\n      <td>10</td>\n      <td>1</td>\n      <td>12</td>\n      <td>0.145397</td>\n      <td>2.012027</td>\n      <td>2</td>\n      <td>0.148067</td>\n      <td>1.981816</td>\n    </tr>\n    <tr>\n      <th>620352</th>\n      <td>620352</td>\n      <td>8</td>\n      <td>unknown</td>\n      <td>1689490302305</td>\n      <td>4</td>\n      <td>0</td>\n      <td>41</td>\n      <td>104</td>\n      <td>37</td>\n      <td>1</td>\n      <td>...</td>\n      <td>2023</td>\n      <td>7</td>\n      <td>16</td>\n      <td>7</td>\n      <td>6</td>\n      <td>0.139946</td>\n      <td>2.075754</td>\n      <td>1</td>\n      <td>0.160579</td>\n      <td>1.849007</td>\n    </tr>\n    <tr>\n      <th>620353</th>\n      <td>620353</td>\n      <td>41</td>\n      <td>{\"key1\":\"274\",\"key2\":\"446\"}</td>\n      <td>1688892078584</td>\n      <td>0</td>\n      <td>2</td>\n      <td>41</td>\n      <td>104</td>\n      <td>37</td>\n      <td>4</td>\n      <td>...</td>\n      <td>2023</td>\n      <td>7</td>\n      <td>9</td>\n      <td>7</td>\n      <td>8</td>\n      <td>0.163471</td>\n      <td>1.820149</td>\n      <td>1</td>\n      <td>0.160579</td>\n      <td>1.849007</td>\n    </tr>\n    <tr>\n      <th>620354</th>\n      <td>620354</td>\n      <td>26</td>\n      <td>{\"key3\":\"67804\",\"key2\":\"650\"}</td>\n      <td>1689652960171</td>\n      <td>4</td>\n      <td>0</td>\n      <td>41</td>\n      <td>17</td>\n      <td>366</td>\n      <td>1</td>\n      <td>...</td>\n      <td>2023</td>\n      <td>7</td>\n      <td>18</td>\n      <td>2</td>\n      <td>4</td>\n      <td>0.140387</td>\n      <td>2.070486</td>\n      <td>0</td>\n      <td>0.126957</td>\n      <td>2.241021</td>\n    </tr>\n    <tr>\n      <th>620355</th>\n      <td>620355</td>\n      <td>41</td>\n      <td>{\"key1\":\"1398\",\"key2\":\"289\"}</td>\n      <td>1689235398023</td>\n      <td>2</td>\n      <td>2</td>\n      <td>41</td>\n      <td>71</td>\n      <td>288</td>\n      <td>4</td>\n      <td>...</td>\n      <td>2023</td>\n      <td>7</td>\n      <td>13</td>\n      <td>4</td>\n      <td>8</td>\n      <td>0.163471</td>\n      <td>1.820149</td>\n      <td>1</td>\n      <td>0.160579</td>\n      <td>1.849007</td>\n    </tr>\n  </tbody>\n</table>\n<p>620356 rows × 24 columns</p>\n</div>"
     },
     "execution_count": 111,
     "metadata": {},
     "output_type": "execute_result"
    }
   ],
   "source": [
    "df_train['hour_section'] = ((df_train['hour'] ) // 6).astype('int64')\n",
    "df_grouped_hour_section = df_train.groupby('hour_section').agg(aggs).reset_index()\n",
    "df_grouped_hour_section.columns = ['hour_section', 'hour_section_target_mean', 'hour_section_target_skew']\n",
    "df_train = pd.merge(df_train, df_grouped_hour_section, how='left', on='hour_section')\n",
    "df_train"
   ],
   "metadata": {
    "collapsed": false,
    "ExecuteTime": {
     "end_time": "2023-09-11T09:05:04.928708700Z",
     "start_time": "2023-09-11T09:05:04.567768100Z"
    }
   },
   "id": "9bfffe69d9e6bba8"
  },
  {
   "cell_type": "code",
   "execution_count": 30,
   "outputs": [],
   "source": [
    "def q1(x):\n",
    "    \"\"\"\n",
    "    下四分位数\n",
    "    \"\"\"\n",
    "    return x.quantile(0.25)\n",
    "\n",
    "def q2(x):\n",
    "    \"\"\"\n",
    "    上四分位数\n",
    "    \"\"\"\n",
    "    return x.quantile(0.75)"
   ],
   "metadata": {
    "collapsed": false,
    "ExecuteTime": {
     "end_time": "2023-09-11T07:18:35.473134600Z",
     "start_time": "2023-09-11T07:18:35.460169800Z"
    }
   },
   "id": "4edcdb5ec33297e5"
  },
  {
   "cell_type": "code",
   "execution_count": 31,
   "outputs": [
    {
     "data": {
      "text/plain": "          target     \n              q1   q2\ndayofweek            \n1            0.0  0.0\n2            0.0  0.0\n3            0.0  0.0\n4            0.0  0.0\n5            0.0  0.0\n6            0.0  0.0\n7            0.0  0.0",
      "text/html": "<div>\n<style scoped>\n    .dataframe tbody tr th:only-of-type {\n        vertical-align: middle;\n    }\n\n    .dataframe tbody tr th {\n        vertical-align: top;\n    }\n\n    .dataframe thead tr th {\n        text-align: left;\n    }\n\n    .dataframe thead tr:last-of-type th {\n        text-align: right;\n    }\n</style>\n<table border=\"1\" class=\"dataframe\">\n  <thead>\n    <tr>\n      <th></th>\n      <th colspan=\"2\" halign=\"left\">target</th>\n    </tr>\n    <tr>\n      <th></th>\n      <th>q1</th>\n      <th>q2</th>\n    </tr>\n    <tr>\n      <th>dayofweek</th>\n      <th></th>\n      <th></th>\n    </tr>\n  </thead>\n  <tbody>\n    <tr>\n      <th>1</th>\n      <td>0.0</td>\n      <td>0.0</td>\n    </tr>\n    <tr>\n      <th>2</th>\n      <td>0.0</td>\n      <td>0.0</td>\n    </tr>\n    <tr>\n      <th>3</th>\n      <td>0.0</td>\n      <td>0.0</td>\n    </tr>\n    <tr>\n      <th>4</th>\n      <td>0.0</td>\n      <td>0.0</td>\n    </tr>\n    <tr>\n      <th>5</th>\n      <td>0.0</td>\n      <td>0.0</td>\n    </tr>\n    <tr>\n      <th>6</th>\n      <td>0.0</td>\n      <td>0.0</td>\n    </tr>\n    <tr>\n      <th>7</th>\n      <td>0.0</td>\n      <td>0.0</td>\n    </tr>\n  </tbody>\n</table>\n</div>"
     },
     "execution_count": 31,
     "metadata": {},
     "output_type": "execute_result"
    }
   ],
   "source": [
    "aggs = {\n",
    "    'target': [q1, q2]\n",
    "}\n",
    "df_train.groupby('dayofweek').agg(aggs)"
   ],
   "metadata": {
    "collapsed": false,
    "ExecuteTime": {
     "end_time": "2023-09-11T07:20:18.328764800Z",
     "start_time": "2023-09-11T07:20:18.267332800Z"
    }
   },
   "id": "faf0584ef1bd4b03"
  },
  {
   "cell_type": "code",
   "execution_count": null,
   "outputs": [],
   "source": [],
   "metadata": {
    "collapsed": false
   },
   "id": "8f353b5e256f6d2e"
  }
 ],
 "metadata": {
  "kernelspec": {
   "display_name": "Python 3",
   "language": "python",
   "name": "python3"
  },
  "language_info": {
   "codemirror_mode": {
    "name": "ipython",
    "version": 2
   },
   "file_extension": ".py",
   "mimetype": "text/x-python",
   "name": "python",
   "nbconvert_exporter": "python",
   "pygments_lexer": "ipython2",
   "version": "2.7.6"
  }
 },
 "nbformat": 4,
 "nbformat_minor": 5
}
