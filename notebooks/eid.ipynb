{
 "cells": [
  {
   "cell_type": "code",
   "execution_count": 1,
   "id": "initial_id",
   "metadata": {
    "collapsed": true,
    "ExecuteTime": {
     "end_time": "2023-09-11T09:51:11.719821200Z",
     "start_time": "2023-09-11T09:51:10.534869600Z"
    }
   },
   "outputs": [],
   "source": [
    "import sys\n",
    "sys.path.append(\"D:/git/NewUserPredict\")\n",
    "from tools.config_file import NewUserPredictParams\n",
    "params = NewUserPredictParams()\n",
    "import pandas as pd"
   ]
  },
  {
   "cell_type": "code",
   "execution_count": 3,
   "outputs": [],
   "source": [
    "df_train = pd.read_csv(params.train_csv)"
   ],
   "metadata": {
    "collapsed": false,
    "ExecuteTime": {
     "end_time": "2023-09-11T09:52:27.530707Z",
     "start_time": "2023-09-11T09:52:26.748009200Z"
    }
   },
   "id": "485acbfdacb320d0"
  },
  {
   "cell_type": "code",
   "execution_count": 22,
   "outputs": [
    {
     "data": {
      "text/plain": "          uuid  eid                          udmap      common_ts  x1  x2  x3  \\\n0            0   26  {\"key3\":\"67804\",\"key2\":\"650\"}  1689673468244   4   0  41   \n1            1   26  {\"key3\":\"67804\",\"key2\":\"484\"}  1689082941469   4   0  41   \n2            2    8                        unknown  1689407393040   4   0  41   \n3            3   11                        unknown  1689467815688   1   3  41   \n4            4   26  {\"key3\":\"67804\",\"key2\":\"650\"}  1689491751442   0   3  41   \n...        ...  ...                            ...            ...  ..  ..  ..   \n620351  620351    2      {\"key4\":\"14\",\"key5\":\"14\"}  1688990850527   4   0  41   \n620352  620352    8                        unknown  1689490302305   4   0  41   \n620353  620353   41    {\"key1\":\"274\",\"key2\":\"446\"}  1688892078584   0   2  41   \n620354  620354   26  {\"key3\":\"67804\",\"key2\":\"650\"}  1689652960171   4   0  41   \n620355  620355   41   {\"key1\":\"1398\",\"key2\":\"289\"}  1689235398023   2   2  41   \n\n         x4   x5  x6  ...  x7_q1  x7_q2  x8_mean  x8_median  x8_q1  x8_q2  \\\n0       107  206   1  ...    6.0    8.0      1.0        1.0    1.0    1.0   \n1        24  283   4  ...    6.0    8.0      1.0        1.0    1.0    1.0   \n2        71  288   4  ...    6.0    8.0      1.0        1.0    1.0    1.0   \n3        17  366   1  ...    6.0    8.0      1.0        1.0    1.0    1.0   \n4        92  383   4  ...    6.0    8.0      1.0        1.0    1.0    1.0   \n...     ...  ...  ..  ...    ...    ...      ...        ...    ...    ...   \n620351  104   37   4  ...    6.0    8.0      1.0        1.0    1.0    1.0   \n620352  104   37   1  ...    6.0    8.0      1.0        1.0    1.0    1.0   \n620353  104   37   4  ...    2.0    2.0      0.0        0.0    0.0    0.0   \n620354   17  366   1  ...    6.0    8.0      1.0        1.0    1.0    1.0   \n620355   71  288   4  ...    2.0    2.0      0.0        0.0    0.0    0.0   \n\n        target_mean  target_median  target_q1  target_q2  \n0          0.072707            0.0        0.0        0.0  \n1          0.072707            0.0        0.0        0.0  \n2          0.097401            0.0        0.0        0.0  \n3          0.098421            0.0        0.0        0.0  \n4          0.072707            0.0        0.0        0.0  \n...             ...            ...        ...        ...  \n620351     0.139414            0.0        0.0        0.0  \n620352     0.097401            0.0        0.0        0.0  \n620353     0.377388            0.0        0.0        1.0  \n620354     0.072707            0.0        0.0        0.0  \n620355     0.377388            0.0        0.0        1.0  \n\n[620356 rows x 49 columns]",
      "text/html": "<div>\n<style scoped>\n    .dataframe tbody tr th:only-of-type {\n        vertical-align: middle;\n    }\n\n    .dataframe tbody tr th {\n        vertical-align: top;\n    }\n\n    .dataframe thead th {\n        text-align: right;\n    }\n</style>\n<table border=\"1\" class=\"dataframe\">\n  <thead>\n    <tr style=\"text-align: right;\">\n      <th></th>\n      <th>uuid</th>\n      <th>eid</th>\n      <th>udmap</th>\n      <th>common_ts</th>\n      <th>x1</th>\n      <th>x2</th>\n      <th>x3</th>\n      <th>x4</th>\n      <th>x5</th>\n      <th>x6</th>\n      <th>...</th>\n      <th>x7_q1</th>\n      <th>x7_q2</th>\n      <th>x8_mean</th>\n      <th>x8_median</th>\n      <th>x8_q1</th>\n      <th>x8_q2</th>\n      <th>target_mean</th>\n      <th>target_median</th>\n      <th>target_q1</th>\n      <th>target_q2</th>\n    </tr>\n  </thead>\n  <tbody>\n    <tr>\n      <th>0</th>\n      <td>0</td>\n      <td>26</td>\n      <td>{\"key3\":\"67804\",\"key2\":\"650\"}</td>\n      <td>1689673468244</td>\n      <td>4</td>\n      <td>0</td>\n      <td>41</td>\n      <td>107</td>\n      <td>206</td>\n      <td>1</td>\n      <td>...</td>\n      <td>6.0</td>\n      <td>8.0</td>\n      <td>1.0</td>\n      <td>1.0</td>\n      <td>1.0</td>\n      <td>1.0</td>\n      <td>0.072707</td>\n      <td>0.0</td>\n      <td>0.0</td>\n      <td>0.0</td>\n    </tr>\n    <tr>\n      <th>1</th>\n      <td>1</td>\n      <td>26</td>\n      <td>{\"key3\":\"67804\",\"key2\":\"484\"}</td>\n      <td>1689082941469</td>\n      <td>4</td>\n      <td>0</td>\n      <td>41</td>\n      <td>24</td>\n      <td>283</td>\n      <td>4</td>\n      <td>...</td>\n      <td>6.0</td>\n      <td>8.0</td>\n      <td>1.0</td>\n      <td>1.0</td>\n      <td>1.0</td>\n      <td>1.0</td>\n      <td>0.072707</td>\n      <td>0.0</td>\n      <td>0.0</td>\n      <td>0.0</td>\n    </tr>\n    <tr>\n      <th>2</th>\n      <td>2</td>\n      <td>8</td>\n      <td>unknown</td>\n      <td>1689407393040</td>\n      <td>4</td>\n      <td>0</td>\n      <td>41</td>\n      <td>71</td>\n      <td>288</td>\n      <td>4</td>\n      <td>...</td>\n      <td>6.0</td>\n      <td>8.0</td>\n      <td>1.0</td>\n      <td>1.0</td>\n      <td>1.0</td>\n      <td>1.0</td>\n      <td>0.097401</td>\n      <td>0.0</td>\n      <td>0.0</td>\n      <td>0.0</td>\n    </tr>\n    <tr>\n      <th>3</th>\n      <td>3</td>\n      <td>11</td>\n      <td>unknown</td>\n      <td>1689467815688</td>\n      <td>1</td>\n      <td>3</td>\n      <td>41</td>\n      <td>17</td>\n      <td>366</td>\n      <td>1</td>\n      <td>...</td>\n      <td>6.0</td>\n      <td>8.0</td>\n      <td>1.0</td>\n      <td>1.0</td>\n      <td>1.0</td>\n      <td>1.0</td>\n      <td>0.098421</td>\n      <td>0.0</td>\n      <td>0.0</td>\n      <td>0.0</td>\n    </tr>\n    <tr>\n      <th>4</th>\n      <td>4</td>\n      <td>26</td>\n      <td>{\"key3\":\"67804\",\"key2\":\"650\"}</td>\n      <td>1689491751442</td>\n      <td>0</td>\n      <td>3</td>\n      <td>41</td>\n      <td>92</td>\n      <td>383</td>\n      <td>4</td>\n      <td>...</td>\n      <td>6.0</td>\n      <td>8.0</td>\n      <td>1.0</td>\n      <td>1.0</td>\n      <td>1.0</td>\n      <td>1.0</td>\n      <td>0.072707</td>\n      <td>0.0</td>\n      <td>0.0</td>\n      <td>0.0</td>\n    </tr>\n    <tr>\n      <th>...</th>\n      <td>...</td>\n      <td>...</td>\n      <td>...</td>\n      <td>...</td>\n      <td>...</td>\n      <td>...</td>\n      <td>...</td>\n      <td>...</td>\n      <td>...</td>\n      <td>...</td>\n      <td>...</td>\n      <td>...</td>\n      <td>...</td>\n      <td>...</td>\n      <td>...</td>\n      <td>...</td>\n      <td>...</td>\n      <td>...</td>\n      <td>...</td>\n      <td>...</td>\n      <td>...</td>\n    </tr>\n    <tr>\n      <th>620351</th>\n      <td>620351</td>\n      <td>2</td>\n      <td>{\"key4\":\"14\",\"key5\":\"14\"}</td>\n      <td>1688990850527</td>\n      <td>4</td>\n      <td>0</td>\n      <td>41</td>\n      <td>104</td>\n      <td>37</td>\n      <td>4</td>\n      <td>...</td>\n      <td>6.0</td>\n      <td>8.0</td>\n      <td>1.0</td>\n      <td>1.0</td>\n      <td>1.0</td>\n      <td>1.0</td>\n      <td>0.139414</td>\n      <td>0.0</td>\n      <td>0.0</td>\n      <td>0.0</td>\n    </tr>\n    <tr>\n      <th>620352</th>\n      <td>620352</td>\n      <td>8</td>\n      <td>unknown</td>\n      <td>1689490302305</td>\n      <td>4</td>\n      <td>0</td>\n      <td>41</td>\n      <td>104</td>\n      <td>37</td>\n      <td>1</td>\n      <td>...</td>\n      <td>6.0</td>\n      <td>8.0</td>\n      <td>1.0</td>\n      <td>1.0</td>\n      <td>1.0</td>\n      <td>1.0</td>\n      <td>0.097401</td>\n      <td>0.0</td>\n      <td>0.0</td>\n      <td>0.0</td>\n    </tr>\n    <tr>\n      <th>620353</th>\n      <td>620353</td>\n      <td>41</td>\n      <td>{\"key1\":\"274\",\"key2\":\"446\"}</td>\n      <td>1688892078584</td>\n      <td>0</td>\n      <td>2</td>\n      <td>41</td>\n      <td>104</td>\n      <td>37</td>\n      <td>4</td>\n      <td>...</td>\n      <td>2.0</td>\n      <td>2.0</td>\n      <td>0.0</td>\n      <td>0.0</td>\n      <td>0.0</td>\n      <td>0.0</td>\n      <td>0.377388</td>\n      <td>0.0</td>\n      <td>0.0</td>\n      <td>1.0</td>\n    </tr>\n    <tr>\n      <th>620354</th>\n      <td>620354</td>\n      <td>26</td>\n      <td>{\"key3\":\"67804\",\"key2\":\"650\"}</td>\n      <td>1689652960171</td>\n      <td>4</td>\n      <td>0</td>\n      <td>41</td>\n      <td>17</td>\n      <td>366</td>\n      <td>1</td>\n      <td>...</td>\n      <td>6.0</td>\n      <td>8.0</td>\n      <td>1.0</td>\n      <td>1.0</td>\n      <td>1.0</td>\n      <td>1.0</td>\n      <td>0.072707</td>\n      <td>0.0</td>\n      <td>0.0</td>\n      <td>0.0</td>\n    </tr>\n    <tr>\n      <th>620355</th>\n      <td>620355</td>\n      <td>41</td>\n      <td>{\"key1\":\"1398\",\"key2\":\"289\"}</td>\n      <td>1689235398023</td>\n      <td>2</td>\n      <td>2</td>\n      <td>41</td>\n      <td>71</td>\n      <td>288</td>\n      <td>4</td>\n      <td>...</td>\n      <td>2.0</td>\n      <td>2.0</td>\n      <td>0.0</td>\n      <td>0.0</td>\n      <td>0.0</td>\n      <td>0.0</td>\n      <td>0.377388</td>\n      <td>0.0</td>\n      <td>0.0</td>\n      <td>1.0</td>\n    </tr>\n  </tbody>\n</table>\n<p>620356 rows × 49 columns</p>\n</div>"
     },
     "execution_count": 22,
     "metadata": {},
     "output_type": "execute_result"
    }
   ],
   "source": [
    "def q1(x):\n",
    "    \"\"\"\n",
    "    下四分位数\n",
    "    \"\"\"\n",
    "    return x.quantile(0.25)\n",
    "\n",
    "def q2(x):\n",
    "    \"\"\"\n",
    "    上四分位数\n",
    "    \"\"\"\n",
    "    return x.quantile(0.75)\n",
    "aggs = {}\n",
    "colNames_sub = ['x1', 'x2', 'x3', 'x4', 'x5', 'x6', 'x7', 'x8', 'target']\n",
    "# 字段汇总统计量设置\n",
    "for col in colNames_sub:\n",
    "    #'min', 'max', 'var', 'skew', 'median', 'nunique', 'count'\n",
    "    aggs[col] = ['mean', 'median', q1, q2]\n",
    "    \n",
    "df_grouped = df_train.groupby('eid').agg(aggs).reset_index()\n",
    "\n",
    "columns_new = []\n",
    "for i in df_grouped.columns:\n",
    "    columns_new.append(f\"{i[0]}_{i[1]}\")\n",
    "\n",
    "df_grouped.columns = columns_new\n",
    "df_grouped = df_grouped.rename(columns={'eid_': 'eid'})\n",
    "df_train = pd.merge(df_train, df_grouped, how='left', on='eid')\n",
    "df_train"
   ],
   "metadata": {
    "collapsed": false,
    "ExecuteTime": {
     "end_time": "2023-09-11T12:25:23.149126500Z",
     "start_time": "2023-09-11T12:25:21.978856500Z"
    }
   },
   "id": "fbfa964e4079701"
  },
  {
   "cell_type": "code",
   "execution_count": null,
   "outputs": [],
   "source": [],
   "metadata": {
    "collapsed": false
   },
   "id": "3d52c0f565caccb6"
  }
 ],
 "metadata": {
  "kernelspec": {
   "display_name": "Python 3",
   "language": "python",
   "name": "python3"
  },
  "language_info": {
   "codemirror_mode": {
    "name": "ipython",
    "version": 2
   },
   "file_extension": ".py",
   "mimetype": "text/x-python",
   "name": "python",
   "nbconvert_exporter": "python",
   "pygments_lexer": "ipython2",
   "version": "2.7.6"
  }
 },
 "nbformat": 4,
 "nbformat_minor": 5
}
