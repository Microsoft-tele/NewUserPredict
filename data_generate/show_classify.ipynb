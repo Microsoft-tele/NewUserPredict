{
 "cells": [
  {
   "cell_type": "code",
   "execution_count": 23,
   "metadata": {
    "collapsed": true,
    "ExecuteTime": {
     "end_time": "2023-08-28T03:33:32.665850300Z",
     "start_time": "2023-08-28T03:33:32.650229Z"
    }
   },
   "outputs": [],
   "source": [
    "import pandas as pd\n",
    "from tools.config_file import NewUserPredictParams\n",
    "from tools.normalize import normalize_by_columns\n",
    "params = NewUserPredictParams()"
   ]
  },
  {
   "cell_type": "code",
   "execution_count": 24,
   "outputs": [],
   "source": [
    "def divide(df_csv: pd.DataFrame, eids: list) -> pd.DataFrame:\n",
    "    \"\"\"\n",
    "    :author Micros0ft\n",
    "    :date 2023/8/27\n",
    "    :param df_csv: Processed training dataset, udmap has been divided into 9 different keys\n",
    "    :param eids: List of eids for dividing data series into separate pd.DataFrames\n",
    "    :return: train_df divided according to eids, test_df divided according to eids\n",
    "    \"\"\"\n",
    "    train_df_list = []  # Store divided training DataFrames based on eids\n",
    "\n",
    "    # For each eid in eids, extract corresponding data from training and testing DataFrames\n",
    "    for eid in eids:\n",
    "        train_df_eid = df_csv[df_csv['eid'] == eid]\n",
    "\n",
    "        train_df_list.append(train_df_eid)\n",
    "\n",
    "    # Concatenate all divided DataFrames into single DataFrames\n",
    "    df_train = pd.concat(train_df_list, ignore_index=True)\n",
    "\n",
    "    return df_train"
   ],
   "metadata": {
    "collapsed": false,
    "ExecuteTime": {
     "end_time": "2023-08-28T03:33:34.674170500Z",
     "start_time": "2023-08-28T03:33:34.656660400Z"
    }
   }
  },
  {
   "cell_type": "code",
   "execution_count": 25,
   "outputs": [],
   "source": [
    "key2_key3 = [26, 40, 3, 38, 25, 12, 7, 0, 27, 34, ]\n",
    "key4_key5 = [2, 5, ]\n",
    "unknown = [41, 36, 31, 30, 4, 1, 19, 13, 15, 20, 10, 9, 29, 37, 32, 21, 39, 35, 11, 8, 33, 42, 28, 14, 16, 23, 6,\n",
    "           22, 18, 17, 24, ]\n",
    "columns_1 = ['key1', 'key4', 'key5', 'key6', 'key7', 'key8', 'key9']\n",
    "columns_2 = ['key6', 'key7', 'key8', 'key9']\n",
    "columns_3 = ['key1', 'key2', 'key3', 'key4', 'key5', 'key6', 'key7', 'key8', 'key9']\n",
    "train_processed_csv = pd.read_csv(params.train_processed_csv)\n",
    "test_processed_csv = pd.read_csv(params.test_processed_csv)\n",
    "dataset = [train_processed_csv, test_processed_csv]\n",
    "train_df_list = []\n",
    "test_df_list = []\n",
    "is_train = True\n",
    "\n",
    "for df in dataset:\n",
    "    key2_key3_df = divide(df, key2_key3)\n",
    "    key4_key5_df = divide(df, key4_key5)\n",
    "    unknown_df = divide(df, unknown)\n",
    "    if is_train:\n",
    "        train_df_list.append(key2_key3_df.drop(columns=columns_1))\n",
    "        train_df_list.append(key4_key5_df.drop(columns=columns_2))\n",
    "        train_df_list.append(unknown_df.drop(columns=columns_3))\n",
    "        is_train = False\n",
    "    else:\n",
    "        test_df_list.append(key2_key3_df.drop(columns=columns_1))\n",
    "        test_df_list.append(key4_key5_df.drop(columns=columns_2))\n",
    "        test_df_list.append(unknown_df.drop(columns=columns_3))\n",
    "\n",
    "combined_df_list = []\n",
    "\n",
    "for i in range(len(train_df_list)):\n",
    "    combined_df_list.append(pd.concat([train_df_list[i], test_df_list[i]], ignore_index=True))\n",
    "    combined_df_list[i] = combined_df_list[i].drop(columns=['one_hot'])"
   ],
   "metadata": {
    "collapsed": false,
    "ExecuteTime": {
     "end_time": "2023-08-28T03:33:37.086934Z",
     "start_time": "2023-08-28T03:33:35.986720900Z"
    }
   }
  },
  {
   "cell_type": "code",
   "execution_count": 26,
   "outputs": [],
   "source": [
    "normalized_dataset = normalize_by_columns(combined_df_list[1], ['eid', 'x1', 'x2', 'x3', 'x4', 'x5', 'x6', 'x7', 'x8', 'key1', 'key2', 'key3', 'key4', 'key5', 'date', 'hour', 'weekday'])"
   ],
   "metadata": {
    "collapsed": false,
    "ExecuteTime": {
     "end_time": "2023-08-28T03:33:41.107079900Z",
     "start_time": "2023-08-28T03:33:41.023682200Z"
    }
   }
  },
  {
   "cell_type": "code",
   "execution_count": 27,
   "outputs": [
    {
     "data": {
      "text/plain": "          uuid  eid    x1        x2        x3        x4        x5   x6  \\\n0           19  0.0  0.25  0.666667  0.545455  0.946667  0.840194  1.0   \n1           21  0.0  1.00  0.333333  0.545455  1.000000  0.607748  1.0   \n2           32  0.0  0.25  1.000000  0.545455  0.246667  0.711864  0.0   \n3           52  0.0  1.00  1.000000  0.545455  0.706667  0.237288  0.0   \n4           94  0.0  0.00  0.000000  0.545455  0.733333  0.934625  0.0   \n...        ...  ...   ...       ...       ...       ...       ...  ...   \n112282  206653  1.0  1.00  1.000000  0.545455  0.333333  0.738499  0.0   \n112283  206668  1.0  1.00  0.000000  0.545455  0.226667  0.629540  0.0   \n112284  206695  1.0  1.00  0.000000  0.545455  0.686667  0.699758  1.0   \n112285  206708  1.0  1.00  0.333333  0.545455  1.000000  0.762712  0.0   \n112286  206751  1.0  1.00  1.000000  0.545455  0.686667  0.605327  1.0   \n\n              x7   x8      key1      key2      key3  key4  key5      date  \\\n0       0.888889  0.0  0.000000  0.000000  0.000000  0.75  0.75  0.866667   \n1       0.444444  0.0  0.000000  0.000000  0.000000  0.65  0.30  0.933333   \n2       0.666667  0.0  0.000000  0.000000  0.000000  1.00  0.85  0.933333   \n3       0.666667  0.0  0.000000  0.000000  0.000000  0.95  0.55  0.800000   \n4       0.666667  0.0  0.000000  0.000000  0.000000  0.20  0.25  1.000000   \n...          ...  ...       ...       ...       ...   ...   ...       ...   \n112282  0.666667  0.0  0.214844  0.139521  0.414802  0.35  0.40  0.866667   \n112283  0.666667  0.0  0.624349  0.543331  0.414802  0.70  0.65  0.733333   \n112284  0.777778  0.0  0.431641  0.379840  0.414802  0.75  0.75  0.600000   \n112285  0.000000  0.0  0.751302  0.547019  0.414802  0.95  0.55  0.866667   \n112286  0.888889  0.0  0.727865  0.051629  0.414802  0.65  0.30  0.666667   \n\n            hour   weekday  target  \n0       0.391304  1.000000     0.0  \n1       0.173913  0.000000     0.0  \n2       0.130435  0.000000     0.0  \n3       0.173913  0.833333     0.0  \n4       0.521739  0.166667     0.0  \n...          ...       ...     ...  \n112282  0.434783  1.000000     NaN  \n112283  0.434783  0.666667     NaN  \n112284  0.000000  0.333333     NaN  \n112285  0.173913  1.000000     NaN  \n112286  0.782609  0.500000     NaN  \n\n[112287 rows x 19 columns]",
      "text/html": "<div>\n<style scoped>\n    .dataframe tbody tr th:only-of-type {\n        vertical-align: middle;\n    }\n\n    .dataframe tbody tr th {\n        vertical-align: top;\n    }\n\n    .dataframe thead th {\n        text-align: right;\n    }\n</style>\n<table border=\"1\" class=\"dataframe\">\n  <thead>\n    <tr style=\"text-align: right;\">\n      <th></th>\n      <th>uuid</th>\n      <th>eid</th>\n      <th>x1</th>\n      <th>x2</th>\n      <th>x3</th>\n      <th>x4</th>\n      <th>x5</th>\n      <th>x6</th>\n      <th>x7</th>\n      <th>x8</th>\n      <th>key1</th>\n      <th>key2</th>\n      <th>key3</th>\n      <th>key4</th>\n      <th>key5</th>\n      <th>date</th>\n      <th>hour</th>\n      <th>weekday</th>\n      <th>target</th>\n    </tr>\n  </thead>\n  <tbody>\n    <tr>\n      <th>0</th>\n      <td>19</td>\n      <td>0.0</td>\n      <td>0.25</td>\n      <td>0.666667</td>\n      <td>0.545455</td>\n      <td>0.946667</td>\n      <td>0.840194</td>\n      <td>1.0</td>\n      <td>0.888889</td>\n      <td>0.0</td>\n      <td>0.000000</td>\n      <td>0.000000</td>\n      <td>0.000000</td>\n      <td>0.75</td>\n      <td>0.75</td>\n      <td>0.866667</td>\n      <td>0.391304</td>\n      <td>1.000000</td>\n      <td>0.0</td>\n    </tr>\n    <tr>\n      <th>1</th>\n      <td>21</td>\n      <td>0.0</td>\n      <td>1.00</td>\n      <td>0.333333</td>\n      <td>0.545455</td>\n      <td>1.000000</td>\n      <td>0.607748</td>\n      <td>1.0</td>\n      <td>0.444444</td>\n      <td>0.0</td>\n      <td>0.000000</td>\n      <td>0.000000</td>\n      <td>0.000000</td>\n      <td>0.65</td>\n      <td>0.30</td>\n      <td>0.933333</td>\n      <td>0.173913</td>\n      <td>0.000000</td>\n      <td>0.0</td>\n    </tr>\n    <tr>\n      <th>2</th>\n      <td>32</td>\n      <td>0.0</td>\n      <td>0.25</td>\n      <td>1.000000</td>\n      <td>0.545455</td>\n      <td>0.246667</td>\n      <td>0.711864</td>\n      <td>0.0</td>\n      <td>0.666667</td>\n      <td>0.0</td>\n      <td>0.000000</td>\n      <td>0.000000</td>\n      <td>0.000000</td>\n      <td>1.00</td>\n      <td>0.85</td>\n      <td>0.933333</td>\n      <td>0.130435</td>\n      <td>0.000000</td>\n      <td>0.0</td>\n    </tr>\n    <tr>\n      <th>3</th>\n      <td>52</td>\n      <td>0.0</td>\n      <td>1.00</td>\n      <td>1.000000</td>\n      <td>0.545455</td>\n      <td>0.706667</td>\n      <td>0.237288</td>\n      <td>0.0</td>\n      <td>0.666667</td>\n      <td>0.0</td>\n      <td>0.000000</td>\n      <td>0.000000</td>\n      <td>0.000000</td>\n      <td>0.95</td>\n      <td>0.55</td>\n      <td>0.800000</td>\n      <td>0.173913</td>\n      <td>0.833333</td>\n      <td>0.0</td>\n    </tr>\n    <tr>\n      <th>4</th>\n      <td>94</td>\n      <td>0.0</td>\n      <td>0.00</td>\n      <td>0.000000</td>\n      <td>0.545455</td>\n      <td>0.733333</td>\n      <td>0.934625</td>\n      <td>0.0</td>\n      <td>0.666667</td>\n      <td>0.0</td>\n      <td>0.000000</td>\n      <td>0.000000</td>\n      <td>0.000000</td>\n      <td>0.20</td>\n      <td>0.25</td>\n      <td>1.000000</td>\n      <td>0.521739</td>\n      <td>0.166667</td>\n      <td>0.0</td>\n    </tr>\n    <tr>\n      <th>...</th>\n      <td>...</td>\n      <td>...</td>\n      <td>...</td>\n      <td>...</td>\n      <td>...</td>\n      <td>...</td>\n      <td>...</td>\n      <td>...</td>\n      <td>...</td>\n      <td>...</td>\n      <td>...</td>\n      <td>...</td>\n      <td>...</td>\n      <td>...</td>\n      <td>...</td>\n      <td>...</td>\n      <td>...</td>\n      <td>...</td>\n      <td>...</td>\n    </tr>\n    <tr>\n      <th>112282</th>\n      <td>206653</td>\n      <td>1.0</td>\n      <td>1.00</td>\n      <td>1.000000</td>\n      <td>0.545455</td>\n      <td>0.333333</td>\n      <td>0.738499</td>\n      <td>0.0</td>\n      <td>0.666667</td>\n      <td>0.0</td>\n      <td>0.214844</td>\n      <td>0.139521</td>\n      <td>0.414802</td>\n      <td>0.35</td>\n      <td>0.40</td>\n      <td>0.866667</td>\n      <td>0.434783</td>\n      <td>1.000000</td>\n      <td>NaN</td>\n    </tr>\n    <tr>\n      <th>112283</th>\n      <td>206668</td>\n      <td>1.0</td>\n      <td>1.00</td>\n      <td>0.000000</td>\n      <td>0.545455</td>\n      <td>0.226667</td>\n      <td>0.629540</td>\n      <td>0.0</td>\n      <td>0.666667</td>\n      <td>0.0</td>\n      <td>0.624349</td>\n      <td>0.543331</td>\n      <td>0.414802</td>\n      <td>0.70</td>\n      <td>0.65</td>\n      <td>0.733333</td>\n      <td>0.434783</td>\n      <td>0.666667</td>\n      <td>NaN</td>\n    </tr>\n    <tr>\n      <th>112284</th>\n      <td>206695</td>\n      <td>1.0</td>\n      <td>1.00</td>\n      <td>0.000000</td>\n      <td>0.545455</td>\n      <td>0.686667</td>\n      <td>0.699758</td>\n      <td>1.0</td>\n      <td>0.777778</td>\n      <td>0.0</td>\n      <td>0.431641</td>\n      <td>0.379840</td>\n      <td>0.414802</td>\n      <td>0.75</td>\n      <td>0.75</td>\n      <td>0.600000</td>\n      <td>0.000000</td>\n      <td>0.333333</td>\n      <td>NaN</td>\n    </tr>\n    <tr>\n      <th>112285</th>\n      <td>206708</td>\n      <td>1.0</td>\n      <td>1.00</td>\n      <td>0.333333</td>\n      <td>0.545455</td>\n      <td>1.000000</td>\n      <td>0.762712</td>\n      <td>0.0</td>\n      <td>0.000000</td>\n      <td>0.0</td>\n      <td>0.751302</td>\n      <td>0.547019</td>\n      <td>0.414802</td>\n      <td>0.95</td>\n      <td>0.55</td>\n      <td>0.866667</td>\n      <td>0.173913</td>\n      <td>1.000000</td>\n      <td>NaN</td>\n    </tr>\n    <tr>\n      <th>112286</th>\n      <td>206751</td>\n      <td>1.0</td>\n      <td>1.00</td>\n      <td>1.000000</td>\n      <td>0.545455</td>\n      <td>0.686667</td>\n      <td>0.605327</td>\n      <td>1.0</td>\n      <td>0.888889</td>\n      <td>0.0</td>\n      <td>0.727865</td>\n      <td>0.051629</td>\n      <td>0.414802</td>\n      <td>0.65</td>\n      <td>0.30</td>\n      <td>0.666667</td>\n      <td>0.782609</td>\n      <td>0.500000</td>\n      <td>NaN</td>\n    </tr>\n  </tbody>\n</table>\n<p>112287 rows × 19 columns</p>\n</div>"
     },
     "execution_count": 27,
     "metadata": {},
     "output_type": "execute_result"
    }
   ],
   "source": [
    "normalized_dataset"
   ],
   "metadata": {
    "collapsed": false,
    "ExecuteTime": {
     "end_time": "2023-08-28T03:33:56.802285200Z",
     "start_time": "2023-08-28T03:33:56.770284400Z"
    }
   }
  },
  {
   "cell_type": "code",
   "execution_count": null,
   "outputs": [],
   "source": [],
   "metadata": {
    "collapsed": false
   }
  }
 ],
 "metadata": {
  "kernelspec": {
   "display_name": "Python 3",
   "language": "python",
   "name": "python3"
  },
  "language_info": {
   "codemirror_mode": {
    "name": "ipython",
    "version": 2
   },
   "file_extension": ".py",
   "mimetype": "text/x-python",
   "name": "python",
   "nbconvert_exporter": "python",
   "pygments_lexer": "ipython2",
   "version": "2.7.6"
  }
 },
 "nbformat": 4,
 "nbformat_minor": 0
}
